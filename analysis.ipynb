{
 "cells": [
  {
   "cell_type": "markdown",
   "metadata": {},
   "source": [
    "Sleep Deprivation & Cognitive Performance\n",
    "\n",
    "Summary: This dataset explores the effects of sleep deprivation on cognitive performance and emotional regulation, based on a 2024 study conducted in the Middle East. It includes 60 participants from diverse backgrounds, capturing data on sleep duration, sleep quality, daytime sleepiness, cognitive function (reaction times, memory accuracy), and emotional stability. Additionally, it records demographic factors such as age, gender, BMI, and lifestyle influences like caffeine intake, physical activity levels, and stress levels."
   ]
  },
  {
   "cell_type": "code",
   "execution_count": 16,
   "metadata": {},
   "outputs": [
    {
     "name": "stdout",
     "output_type": "stream",
     "text": [
      "  Participant_ID  Sleep_Hours  Sleep_Quality_Score  Daytime_Sleepiness  Stroop_Task_Reaction_Time  N_Back_Accuracy  Emotion_Regulation_Score  PVT_Reaction_Time  Age  Gender    BMI  Caffeine_Intake  Physical_Activity_Level  Stress_Level\n",
      "0             P1         5.25                   15                  12                       1.60            64.20                        12             365.85   35  Female  30.53                2                        1            33\n",
      "1             P2         8.70                   12                  14                       2.54            65.27                        21             288.95   20    Male  27.28                3                        8            37\n",
      "2             P3         7.39                   17                  10                       3.40            74.28                        35             325.93   18    Male  30.00                1                        2            32\n",
      "3             P4         6.59                   14                   3                       3.54            72.42                        25             276.86   18    Male  34.47                5                        0            23\n",
      "4             P5         3.94                   20                  12                       3.09            99.72                        60             383.45   36    Male  29.70                3                        4            14\n",
      "5             P6         3.94                   12                   6                       2.84            58.80                        46             224.48   28    Male  32.23                3                        6            29\n",
      "6             P7         3.35                    8                  18                       3.16            50.90                        31             201.56   22    Male  32.74                4                        5            16\n",
      "7             P8         8.20                   14                  21                       3.28            74.69                        66             388.37   29    Male  32.25                1                        0             4\n",
      "8             P9         6.61                   12                   1                       1.74            58.94                        38             258.28   20  Female  25.24                3                        4            28\n",
      "9            P10         7.25                    0                   9                       2.61            68.32                        23             221.28   18    Male  21.78                3                        4             3\n"
     ]
    }
   ],
   "source": [
    "import pandas as pd\n",
    "\n",
    "pd.set_option('display.expand_frame_repr', False)\n",
    "\n",
    "df = pd.read_csv('sleep_deprivation_dataset_detailed.csv')\n",
    "\n",
    "print(df.head(10))"
   ]
  },
  {
   "cell_type": "markdown",
   "metadata": {},
   "source": [
    "Columns:\n",
    "- Participant_ID: id of the participant\n",
    "- Sleep_Hours: number of hours slept\n",
    "- Sleep_Quality_Score: quality of sleep, larger number = better sleep\n",
    "- Daytime_Sleepiness: sleepiness during the day, larger number = more sleepy during the day\n",
    "- Stroop_Task_Reaction_Time: the amount of time it takes for someone to identify the color of a word displayed on a screen, specifically when the color of the word itself conflicts with the word it spells out (e.g., the word \"red\" printed in blue ink), the delay in reaction time between congruent or matching and incongruent or mismatched stimuli\n",
    "- N_Back_Accuracy: measure of how well someone can perform the N-back task, which is a test of working memory (higher accuracy = better working memory), participants are presented with a sequence of stimuli and they must decide if the current stimulus matches the one that appeared n steps earlier\n",
    "- Emotion_Regulation_Score: represents how well someone is able to manage their emotions, and generally a higher score indicates better emotion regulation\n",
    "- PVT_Reaction_Time: a person's ability to quickly respond to visual stimuli, reflecting their level of alertness and vigilance, a longer reaction time generally indicates decreased alertness or potential sleep deprivation\n",
    "- Age: age of the participant\n",
    "- Gender: gender of the participant\n",
    "- BMI: body mass index of the participant\n",
    "- Caffeine_Intake: caffeine consumption, larger number = higher caffine consumption\n",
    "- Physical_Activity_Level: level of physical activity, larger number = more physical activity\n",
    "- Stress_Level: level of stress, larger number = more stressed"
   ]
  },
  {
   "cell_type": "code",
   "execution_count": 21,
   "metadata": {},
   "outputs": [
    {
     "name": "stdout",
     "output_type": "stream",
     "text": [
      "<class 'pandas.core.frame.DataFrame'>\n",
      "RangeIndex: 60 entries, 0 to 59\n",
      "Data columns (total 14 columns):\n",
      " #   Column                     Non-Null Count  Dtype  \n",
      "---  ------                     --------------  -----  \n",
      " 0   Participant_ID             60 non-null     object \n",
      " 1   Sleep_Hours                60 non-null     float64\n",
      " 2   Sleep_Quality_Score        60 non-null     int64  \n",
      " 3   Daytime_Sleepiness         60 non-null     int64  \n",
      " 4   Stroop_Task_Reaction_Time  60 non-null     float64\n",
      " 5   N_Back_Accuracy            60 non-null     float64\n",
      " 6   Emotion_Regulation_Score   60 non-null     int64  \n",
      " 7   PVT_Reaction_Time          60 non-null     float64\n",
      " 8   Age                        60 non-null     int64  \n",
      " 9   Gender                     60 non-null     object \n",
      " 10  BMI                        60 non-null     float64\n",
      " 11  Caffeine_Intake            60 non-null     int64  \n",
      " 12  Physical_Activity_Level    60 non-null     int64  \n",
      " 13  Stress_Level               60 non-null     int64  \n",
      "dtypes: float64(5), int64(7), object(2)\n",
      "memory usage: 6.7+ KB\n",
      "None\n"
     ]
    }
   ],
   "source": [
    "print(df.info())\n"
   ]
  },
  {
   "cell_type": "markdown",
   "metadata": {},
   "source": []
  }
 ],
 "metadata": {
  "kernelspec": {
   "display_name": "Python 3",
   "language": "python",
   "name": "python3"
  },
  "language_info": {
   "codemirror_mode": {
    "name": "ipython",
    "version": 3
   },
   "file_extension": ".py",
   "mimetype": "text/x-python",
   "name": "python",
   "nbconvert_exporter": "python",
   "pygments_lexer": "ipython3",
   "version": "3.10.12"
  }
 },
 "nbformat": 4,
 "nbformat_minor": 2
}
